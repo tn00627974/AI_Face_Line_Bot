{
 "cells": [
  {
   "cell_type": "code",
   "execution_count": null,
   "metadata": {},
   "outputs": [],
   "source": [
    "import tensorflow as tf\n",
    "from tensorflow.keras.preprocessing.image import ImageDataGenerator\n",
    "from tensorflow.keras.applications import MobileNetV2\n",
    "from tensorflow.keras.models import Model\n",
    "from tensorflow.keras.applications.resnet_v2 import preprocess_input \n",
    "\n",
    "import wandb # wandb登入 是為了將訓練過程中的結果上傳至雲端，方便我們查看訓練過程\n",
    "model_log = {\n",
    "    'dense_units': 1024,\n",
    "    'dropout_rate': 0.4,\n",
    "    'learning_rate': 0.0001\n",
    "    }\n",
    "\n",
    "model_name = \"MobileNetV2_size16\"\n",
    "wandb.login()\n",
    "wandb.init(\n",
    "    project=\"100\",\n",
    "    name=model_name,\n",
    "    config=model_log)\n",
    "\n",
    "# from tensorflow.keras.models import Sequential\n",
    "\n",
    "from tensorflow.keras.layers import Input , Dense, GlobalAveragePooling2D, Dropout\n",
    "from tensorflow.keras.optimizers import Adam\n",
    "from tensorflow.keras.callbacks import EarlyStopping, ModelCheckpoint, TensorBoard\n",
    "\n",
    "# 混淆矩陣套用列表\n",
    "import pandas as pd\n",
    "import numpy as np\n",
    "import seaborn as sns\n",
    "import matplotlib.pyplot as plt\n",
    "from sklearn.metrics import confusion_matrix, classification_report, precision_score, recall_score, f1_score\n"
   ]
  },
  {
   "cell_type": "code",
   "execution_count": null,
   "metadata": {},
   "outputs": [],
   "source": [
    "# 設定圖片大小\n",
    "image_size = (224, 224)\n",
    "# 設定批次大小\n",
    "batch_size = 16\n",
    "# 設定類別數量，根據你的資料集而定\n",
    "num_classes = 18\n",
    "# 設定訓練輪次\n",
    "epochs = 100\n",
    "# 設定儲存路徑h5檔\n",
    "file_name = model_name"
   ]
  },
  {
   "cell_type": "code",
   "execution_count": null,
   "metadata": {},
   "outputs": [],
   "source": [
    "# 使用ImageDataGenerator設定資料生成器\n",
    "train_datagen = ImageDataGenerator(\n",
    "    # rescale=1.0 / 255,\n",
    "    preprocessing_function=preprocess_input,\n",
    "    validation_split=0.2,\n",
    "    # # shear_range=0.2, # 浮點數。剪切強度（弧度的剪切角度）。1\n",
    "    zoom_range=0.2, # 浮點數或元組。用於隨機縮放的範圍。2\n",
    "    horizontal_flip=True, # 布林值。隨機水平翻轉輸入。3\n",
    "    rotation_range=20, # 整數。用於隨機旋轉的度數範圍。4\n",
    "    # # width_shift_range=0.2, #浮點數（總寬度的一部分）。用於隨機水平平移的範圍。5\n",
    "    # # height_shift_range=0.2, # 浮點數（總高度的一部分）。用於隨機垂直平移的範圍。6\n",
    "    channel_shift_range=35, # 浮點數。用於隨機通道平移的範圍。7  channel_shift_range: 對圖片的顏色通道進行隨機平移，可以增加顏色變化\n",
    "    brightness_range=(0.8, 1.2), # 元組或列表。用於隨機亮度的範圍。8\n",
    ")\n",
    "\n",
    "# 使用ImageDataGenerator設定資料生成器\n",
    "val_datagen = ImageDataGenerator(\n",
    "    preprocessing_function=preprocess_input,\n",
    "    validation_split=0.2\n",
    "    )"
   ]
  },
  {
   "cell_type": "code",
   "execution_count": null,
   "metadata": {},
   "outputs": [],
   "source": [
    "# 訓練集資料生成器\n",
    "train_generator = train_datagen.flow_from_directory(\n",
    "    \"F:\\工程師資料夾\\MobileNetV3Large_K專用訓練_轉\", # 你的照片樣本路徑 可至https://docs.google.com/spreadsheets/d/1dGP6clYpPmRioEUF7d0kHMFQjOeTYCjUANKakeGwfFo/edit#gid=254245868下載\n",
    "    target_size=image_size,\n",
    "    batch_size=batch_size,\n",
    "    class_mode=\"categorical\",\n",
    "    subset=\"training\",\n",
    "    shuffle=True,\n",
    "    # seed=42 # 亂數種子42  在這個系列中，一個超級電腦被設計出來來回答宇宙中所有問題的答案，而這個答案就是 “42”。\n",
    ")\n",
    "\n",
    "# 驗證集資料生成器\n",
    "validation_generator = val_datagen.flow_from_directory(\n",
    "    \"F:\\工程師資料夾\\MobileNetV3Large_K專用訓練_轉\",# 你的照片樣本路徑,可至https://docs.google.com/spreadsheets/d/1dGP6clYpPmRioEUF7d0kHMFQjOeTYCjUANKakeGwfFo/edit#gid=254245868下載\n",
    "    target_size=image_size,\n",
    "    batch_size=batch_size,\n",
    "    class_mode=\"categorical\",\n",
    "    subset=\"validation\",\n",
    ")"
   ]
  },
  {
   "cell_type": "code",
   "execution_count": null,
   "metadata": {},
   "outputs": [],
   "source": [
    "# tensorboard_callback = TensorBoard(log_dir=\"logs\", histogram_freq=1)\n",
    "\n",
    "# 提前停止（Early Stopping）\n",
    "early_stopping = EarlyStopping(\n",
    "    monitor=\"val_loss\", patience=30, restore_best_weights=True\n",
    ")\n",
    "\n",
    "# 設置 ModelCheckpoint 以保存最佳模型\n",
    "model_checkpoint = ModelCheckpoint(\n",
    "    f\"path/{file_name}.h5\",\n",
    "    save_best_only=True,\n",
    "    monitor=\"val_loss\",\n",
    "    mode=\"min\",\n",
    "    verbose=1,\n",
    ")\n"
   ]
  },
  {
   "cell_type": "code",
   "execution_count": null,
   "metadata": {},
   "outputs": [],
   "source": [
    "input_tensor = Input(shape=(224, 224, 3))\n",
    "\n",
    "# 添加預訓練的 MobileNetV2 模型\n",
    "base_model = MobileNetV2(weights=\"imagenet\", include_top=False, input_tensor=input_tensor)\n",
    "\n",
    "# 凍結 MobileNetV2 層\n",
    "for layer in base_model.layers[:]:\n",
    "    layer.trainable = False"
   ]
  },
  {
   "cell_type": "code",
   "execution_count": null,
   "metadata": {},
   "outputs": [],
   "source": [
    "# 全局平均池化層\n",
    "x = GlobalAveragePooling2D()(base_model.output)\n",
    "\n",
    "# 全連接層，使用 ReLU 激活函數\n",
    "x = Dense(wandb.config.dense_units, activation=\"relu\")(x)\n",
    "\n",
    "# Dropout 層，防止過擬合\n",
    "x = Dropout(wandb.config.dropout_rate)(x)\n",
    "\n",
    "# 全連接層，使用 softmax 激活函數\n",
    "output_tensor = Dense(len(train_generator.class_indices), activation=\"softmax\")(x)\n",
    "\n",
    "# 建立模型\n",
    "model = Model(inputs=input_tensor, outputs=output_tensor)\n",
    "model.compile(optimizer=Adam(lr=wandb.config.learning_rate), loss=\"categorical_crossentropy\", metrics=[\"accuracy\"])\n"
   ]
  },
  {
   "cell_type": "code",
   "execution_count": null,
   "metadata": {},
   "outputs": [],
   "source": [
    "wandb.config.update(model_log)\n",
    "# wandb_callback  = wandb.keras.WandbCallback(log_weights=False, log_gradients=False)\n",
    "model.summary()"
   ]
  },
  {
   "cell_type": "code",
   "execution_count": null,
   "metadata": {},
   "outputs": [],
   "source": [
    "# # 訓練模型\n",
    "# model.fit(\n",
    "#     train_generator,\n",
    "#     steps_per_epoch=train_generator.samples // batch_size,\n",
    "#     epochs=epochs,\n",
    "#     validation_data=validation_generator,\n",
    "#     validation_steps=validation_generator.samples // batch_size,\n",
    "#     callbacks=[tensorboard_callback, early_stopping, model_checkpoint],\n",
    "# )\n",
    "\n",
    "# # 訓練模型 完整訓練\n",
    "model.fit(\n",
    "    train_generator,\n",
    "    epochs=epochs,\n",
    "    validation_data=validation_generator,\n",
    "    callbacks=[ model_checkpoint,wandb.keras.WandbCallback()],\n",
    ")"
   ]
  },
  {
   "cell_type": "code",
   "execution_count": null,
   "metadata": {},
   "outputs": [],
   "source": [
    "# for layer in model.layers:\n",
    "    # print(f\"Layer: {layer.name}, Trainable: {layer.trainable}\")"
   ]
  },
  {
   "cell_type": "code",
   "execution_count": null,
   "metadata": {},
   "outputs": [],
   "source": [
    "# # 載入 TensorBoard notebook extension，即可在 jupyter notebook 啟動 Tensorboard\n",
    "# %load_ext tensorboard\n",
    "# # 啟動 Tensorboard\n",
    "# %tensorboard --logdir log/directory"
   ]
  },
  {
   "cell_type": "code",
   "execution_count": null,
   "metadata": {},
   "outputs": [],
   "source": [
    "# 以下是混淆矩陣\n",
    "# 生成驗證集的預測\n",
    "predictions = model.predict(validation_generator)\n",
    "print(\"驗證\",predictions)\n",
    "#獲取預測的類別\n",
    "predicted_classes = np.argmax(predictions, axis=1)\n",
    "print(predicted_classes)\n",
    "\n",
    "# 獲取真實的類別\n",
    "true_classes = validation_generator.classes\n",
    "print(\"真實\",true_classes)\n",
    "# 創建混淆矩陣\n",
    "conf_matrix = confusion_matrix(true_classes, predicted_classes)\n",
    "\n",
    "# 打印混淆矩陣\n",
    "print(\"Confusion Matrix:\")\n",
    "print(conf_matrix)\n",
    "\n",
    "# 生成分類報告\n",
    "class_names = list(validation_generator.class_indices.keys())\n",
    "class_report = classification_report(true_classes, predicted_classes, target_names=class_names)\n",
    "\n",
    "# 打印分類報告\n",
    "print(\"Classification Report:\")\n",
    "print(class_report)\n",
    "\n"
   ]
  },
  {
   "cell_type": "code",
   "execution_count": null,
   "metadata": {},
   "outputs": [],
   "source": [
    "# 設定中文字體\n",
    "sns.set(font='Microsoft YaHei')  # 使用中文字體（這裡使用的是思源黑體）\n",
    "\n",
    "plt.figure(figsize=(10, 8))\n",
    "sns.heatmap(conf_matrix, annot=True, fmt='d', cmap='Blues', xticklabels=class_names, yticklabels=class_names)\n",
    "plt.title('混淆矩陣')\n",
    "plt.xlabel('預測值')\n",
    "plt.ylabel('實際值')\n",
    "\n",
    "# 儲存混淆矩陣的圖  (bbox_inches='tight' 調整圖片的邊界)\n",
    "plt.savefig(f'path/{file_name}.png', bbox_inches='tight')\n",
    "plt.show()"
   ]
  },
  {
   "cell_type": "code",
   "execution_count": null,
   "metadata": {},
   "outputs": [],
   "source": [
    "# Calculate precision, recall, and F1-score for each class\n",
    "precision_per_class = precision_score(true_classes, predicted_classes, average=None)\n",
    "recall_per_class = recall_score(true_classes, predicted_classes, average=None)\n",
    "f1_score_per_class = f1_score(true_classes, predicted_classes, average=None)\n",
    "\n",
    "precision_per_class *=100\n",
    "recall_per_class *=100 \n",
    "f1_score_per_class *=100\n",
    "\n",
    "# Create a DataFrame to display the metrics per class\n",
    "metrics_per_class = pd.DataFrame({\n",
    "    'Class': class_names,\n",
    "    'Precision': precision_per_class,\n",
    "    'Recall': recall_per_class,\n",
    "    'F1-Score': f1_score_per_class\n",
    "})\n",
    "\n",
    "metrics_per_class = metrics_per_class.round(2)\n",
    "\n",
    "print(metrics_per_class)"
   ]
  }
 ],
 "metadata": {
  "kernelspec": {
   "display_name": "Python 3",
   "language": "python",
   "name": "python3"
  },
  "language_info": {
   "codemirror_mode": {
    "name": "ipython",
    "version": 3
   },
   "file_extension": ".py",
   "mimetype": "text/x-python",
   "name": "python",
   "nbconvert_exporter": "python",
   "pygments_lexer": "ipython3",
   "version": "3.8.10"
  }
 },
 "nbformat": 4,
 "nbformat_minor": 2
}
